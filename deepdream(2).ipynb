{
  "nbformat": 4,
  "nbformat_minor": 0,
  "metadata": {
    "accelerator": "GPU",
    "colab": {
      "name": "deepdream.ipynb",
      "version": "0.3.2",
      "provenance": [],
      "private_outputs": true,
      "collapsed_sections": [],
      "toc_visible": true
    },
    "kernelspec": {
      "display_name": "Python 3",
      "name": "python3"
    }
  },
  "cells": [
    {
      "cell_type": "markdown",
      "metadata": {
        "colab_type": "text",
        "id": "dCMqzy7BNbG9"
      },
      "source": [
        "# DeepDream"
      ]
    },
    {
      "cell_type": "markdown",
      "metadata": {
        "id": "qYRozID0VqQP",
        "colab_type": "text"
      },
      "source": [
        "In these tutorial we're going to beild our very first simple Deep Dream model."
      ]
    },
    {
      "cell_type": "code",
      "metadata": {
        "colab_type": "code",
        "id": "GUSXlFNkxrqh",
        "colab": {}
      },
      "source": [
        "from __future__ import absolute_import, division, print_function, unicode_literals"
      ],
      "execution_count": 0,
      "outputs": []
    },
    {
      "cell_type": "code",
      "metadata": {
        "colab_type": "code",
        "id": "Sc5Yq_Rgxreb",
        "colab": {}
      },
      "source": [
        "try:\n",
        "  # %tensorflow_version only exists in Colab.\n",
        "  %tensorflow_version 2.x\n",
        "except Exception:\n",
        "  pass\n",
        "import tensorflow as tf"
      ],
      "execution_count": 0,
      "outputs": []
    },
    {
      "cell_type": "code",
      "metadata": {
        "colab_type": "code",
        "id": "g_Qp173_NbG5",
        "colab": {}
      },
      "source": [
        "import numpy as np\n",
        "\n",
        "import matplotlib as mpl\n",
        "\n",
        "from IPython.display import clear_output\n",
        "from matplotlib import pyplot as plt\n",
        "from tensorflow.keras.preprocessing import image"
      ],
      "execution_count": 0,
      "outputs": []
    },
    {
      "cell_type": "markdown",
      "metadata": {
        "colab_type": "text",
        "id": "wgeIJg82NbG4"
      },
      "source": [
        "## Choose an image to dream-ify"
      ]
    },
    {
      "cell_type": "markdown",
      "metadata": {
        "id": "pU0b7vcAV7pI",
        "colab_type": "text"
      },
      "source": [
        "we're using the image of Indian actress Deepika Padukone.\n"
      ]
    },
    {
      "cell_type": "code",
      "metadata": {
        "colab_type": "code",
        "id": "0lclzk9sNbG2",
        "colab": {}
      },
      "source": [
        "url = 'https://media.vogue.in/wp-content/uploads/2018/04/featured-Recovered1.jpg'"
      ],
      "execution_count": 0,
      "outputs": []
    },
    {
      "cell_type": "code",
      "metadata": {
        "colab_type": "code",
        "id": "Y5BPgc8NNbG0",
        "colab": {}
      },
      "source": [
        "# Download an image and read it into a NumPy array.\n",
        "def download(url, target_size=None):\n",
        "  name = url.split('/')[-1]\n",
        "  image_path = tf.keras.utils.get_file(name, origin=url)\n",
        "  img = tf.keras.preprocessing.image.load_img(image_path, target_size=target_size)\n",
        "  return img\n",
        "\n",
        "# Normalize an image\n",
        "def deprocess(img):\n",
        "  img = 255*(img + 1.0)/2.0\n",
        "  return tf.cast(img, tf.uint8)\n",
        "\n",
        "\n",
        "# Display an image\n",
        "def show(img):\n",
        "  plt.figure(figsize=(12,12))\n",
        "  plt.grid(False)\n",
        "  plt.axis('off')\n",
        "  plt.imshow(img)\n",
        "  plt.show()\n",
        "\n",
        "# Downsizing the image makes it easier to work with.\n",
        "original_img = download(url, target_size=[225, 375])\n",
        "original_img = np.array(original_img)\n",
        "\n",
        "show(original_img)"
      ],
      "execution_count": 0,
      "outputs": []
    },
    {
      "cell_type": "markdown",
      "metadata": {
        "colab_type": "text",
        "id": "F4RBFfIWNbG0"
      },
      "source": [
        "## Prepare the feature extraction model"
      ]
    },
    {
      "cell_type": "markdown",
      "metadata": {
        "colab_type": "text",
        "id": "cruNQmMDNbGz"
      },
      "source": [
        "Download and prepare a pre-trained image classification model. You will use [InceptionV3](https://keras.io/applications/#inceptionv3) which is similar to the model originally used in DeepDream. Note that any [pre-trained model](https://keras.io/applications/#models-for-image-classification-with-weights-trained-on-imagenet) will work, although you will have to adjust the layer names below if you change this."
      ]
    },
    {
      "cell_type": "code",
      "metadata": {
        "colab_type": "code",
        "id": "GlLi48GKNbGy",
        "colab": {}
      },
      "source": [
        "base_model = tf.keras.applications.InceptionV3(include_top=False, weights='imagenet')"
      ],
      "execution_count": 0,
      "outputs": []
    },
    {
      "cell_type": "markdown",
      "metadata": {
        "colab_type": "text",
        "id": "Bujb0jPNNbGx"
      },
      "source": [
        "The idea in DeepDream is to choose a layer (or layers) and maximize the \"loss\" in a way that the image increasingly \"excites\" the layers. The complexity of the features incorporated depends on layers chosen by you, i.e, lower layers produce strokes or simple patterns, while deeper layers give sophisticated features in images, or even whole objects."
      ]
    },
    {
      "cell_type": "markdown",
      "metadata": {
        "colab_type": "text",
        "id": "qOVmDO4LNbGv"
      },
      "source": [
        "The InceptionV3 architecture is quite large (for a graph of the model architecture see TensorFlow's [research repo](https://github.com/tensorflow/models/tree/master/research/inception)). For DeepDream, the layers of  interest are those where the convolutions are concatenated. There are 11 of these layers in InceptionV3, named 'mixed0' though 'mixed10'. Using different layers will result in different dream-like images. Deeper layers respond to higher-level features (such as eyes and faces), while earlier layers respond to simpler features (such as edges, shapes, and textures). Feel free to experiment with the layers selected below, but keep in mind that deeper layers (those with a higher index) will take longer to train on since the gradient computation is deeper."
      ]
    },
    {
      "cell_type": "code",
      "metadata": {
        "colab_type": "code",
        "id": "08KB502ONbGt",
        "colab": {}
      },
      "source": [
        "# Maximize the activations of these layers\n",
        "names = ['mixed3', 'mixed5']\n",
        "layers = [base_model.get_layer(name).output for name in names]\n",
        "\n",
        "# Create the feature extraction model\n",
        "dream_model = tf.keras.Model(inputs=base_model.input, outputs=layers)"
      ],
      "execution_count": 0,
      "outputs": []
    },
    {
      "cell_type": "markdown",
      "metadata": {
        "colab_type": "text",
        "id": "sb7u31B4NbGt"
      },
      "source": [
        "## Calculate loss\n",
        "\n",
        "The loss is the sum of the activations in the chosen layers. The loss is normalizaed at each layer so the contribution from larger layers does not outweigh smaller layers. Normally, loss is a quantity you wish to minimize via gradient descent. In DeepDream, you will maximize this loss via gradient ascent."
      ]
    },
    {
      "cell_type": "code",
      "metadata": {
        "colab_type": "code",
        "id": "8MhfSweXXiuq",
        "colab": {}
      },
      "source": [
        "def calc_loss(img, model):\n",
        "  # Pass forward the image through the model to retrieve the activations.\n",
        "  # Converts the image into a batch of size 1.\n",
        "  img_batch = tf.expand_dims(img, axis=0)\n",
        "  layer_activations = model(img_batch)\n",
        "\n",
        "  losses = []\n",
        "  for act in layer_activations:\n",
        "    loss = tf.math.reduce_mean(act)\n",
        "    losses.append(loss)\n",
        "\n",
        "  return  tf.reduce_sum(losses)"
      ],
      "execution_count": 0,
      "outputs": []
    },
    {
      "cell_type": "markdown",
      "metadata": {
        "colab_type": "text",
        "id": "k4TCNsAUO9kI"
      },
      "source": [
        "## Gradient ascent\n",
        "\n",
        "Once you have calculated the loss for the chosen layers, all that is left is to calculate the gradients with respect to the image, and add them to the original image. \n",
        "\n",
        "Adding the gradients to the image enhances the patterns seen by the network. At each step, you will have created an image that increasingly excites the activations of certain layers in the network."
      ]
    },
    {
      "cell_type": "code",
      "metadata": {
        "colab_type": "code",
        "id": "qRScWg_VNqvj",
        "colab": {}
      },
      "source": [
        "@tf.function\n",
        "def deepdream(model, img, step_size):\n",
        "    with tf.GradientTape() as tape:\n",
        "      # This needs gradients relative to `img`\n",
        "      # `GradientTape` only watches `tf.Variable`s by default\n",
        "      tape.watch(img)\n",
        "      loss = calc_loss(img, model)\n",
        "\n",
        "    # Calculate the gradient of the loss with respect to the pixels of the input image.\n",
        "    gradients = tape.gradient(loss, img)\n",
        "\n",
        "    # Normalize the gradients.\n",
        "    gradients /= tf.math.reduce_std(gradients) + 1e-8 \n",
        "    \n",
        "    # In gradient ascent, the \"loss\" is maximized so that the input image increasingly \"excites\" the layers.\n",
        "    # You can update the image by directly adding the gradients (because they're the same shape!)\n",
        "    img = img + gradients*step_size\n",
        "    img = tf.clip_by_value(img, -1, 1)\n",
        "\n",
        "    return loss, img"
      ],
      "execution_count": 0,
      "outputs": []
    },
    {
      "cell_type": "code",
      "metadata": {
        "colab_type": "code",
        "id": "9vHEcy7dTysi",
        "colab": {}
      },
      "source": [
        "def run_deep_dream_simple(model, img, steps=100, step_size=0.01):\n",
        "  # Convert from uint8 to the range expected by the model.\n",
        "  img = tf.keras.applications.inception_v3.preprocess_input(img)\n",
        "\n",
        "  for step in range(steps):\n",
        "    loss, img = deepdream(model, img, step_size)\n",
        "    \n",
        "    if step % 100 == 0:\n",
        "      clear_output(wait=True)\n",
        "      show(deprocess(img))\n",
        "      print (\"Step {}, loss {}\".format(step, loss))\n",
        "\n",
        "\n",
        "  result = deprocess(img)\n",
        "  clear_output(wait=True)\n",
        "  show(result)\n",
        "\n",
        "  return result"
      ],
      "execution_count": 0,
      "outputs": []
    },
    {
      "cell_type": "code",
      "metadata": {
        "colab_type": "code",
        "id": "tEfd00rr0j8Z",
        "colab": {}
      },
      "source": [
        "dream_img = run_deep_dream_simple(model=dream_model, img=original_img, \n",
        "                                  steps=2000, step_size=0.001)"
      ],
      "execution_count": 0,
      "outputs": []
    },
    {
      "cell_type": "markdown",
      "metadata": {
        "colab_type": "text",
        "id": "2PbfXEVFNbGp"
      },
      "source": [
        "## Taking it up an octave\n",
        "\n",
        "Pretty good, but there are a few issues with this first attempt: \n",
        "\n",
        "  1. The output is noisy (this could be addressed with a `tf.image.total_variation` loss).\n",
        "  1. The image is low resolution.\n",
        "  1. The patterns appear like they're all happening at the same granularity.\n",
        "  \n",
        "One approach that addresses all these problems is appying gradient descent at different scales. This will allow patterns generated at smaller scales to be incorporated into patterns at higher scales and filled in with additional detail.\n",
        "\n",
        "To do this you can perform the previous gradient ascent approach, then increase the size of the image (which is reffered to as an octave), and repeat this process for multiple octaves.\n",
        "\n"
      ]
    },
    {
      "cell_type": "code",
      "metadata": {
        "colab_type": "code",
        "id": "0eGDSdatLT-8",
        "colab": {}
      },
      "source": [
        "OCTAVE_SCALE = 1.3\n",
        "\n",
        "img = tf.constant(np.array(original_img))\n",
        "base_shape = tf.cast(tf.shape(img)[:-1], tf.float32)\n",
        "\n",
        "for n in range(3):\n",
        "  new_shape = tf.cast(base_shape*(OCTAVE_SCALE**n), tf.int32)\n",
        "\n",
        "  img = tf.image.resize(img, new_shape).numpy()\n",
        "\n",
        "  img = run_deep_dream_simple(model=dream_model, img=img, steps=500, step_size=0.001)\n",
        "\n",
        "clear_output(wait=True)\n",
        "show(img)"
      ],
      "execution_count": 0,
      "outputs": []
    }
  ]
}